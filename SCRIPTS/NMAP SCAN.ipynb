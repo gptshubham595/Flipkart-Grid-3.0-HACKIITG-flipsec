{
 "cells": [
  {
   "cell_type": "code",
   "execution_count": null,
   "source": [
    "import sys\r\n",
    "import subprocess\r\n",
    "from subprocess import Popen, PIPE, STDOUT\r\n",
    "\r\n",
    "def shellExe(command):\r\n",
    "    out=subprocess.Popen(command, shell=True, stdin=PIPE, stdout=subprocess.PIPE)\r\n",
    "    grep_stdout = out.communicate(input=b'PASSWORD\\n')[0]\r\n",
    "    return grep_stdout.decode()\r\n",
    "\r\n",
    "#INSTALLATION TEST\r\n",
    "shellExe(\"sudo -S apt install  arp\")\r\n",
    "shellExe(\"sudo  -S apt install arp-scan\")\r\n",
    "shellExe(\"sudo -S apt install nmap\")\r\n",
    "shellExe(\"sudo -S  apt install net-tools\")\r\n",
    "shellExe(\"sudo -S  apt install uml-utilities\")\r\n",
    "shellExe(\"sudo -S  apt install sshuttle\")"
   ],
   "outputs": [],
   "metadata": {}
  },
  {
   "cell_type": "code",
   "execution_count": 4,
   "source": [
    "#LOCAL NETWROK SCAN\r\n",
    "\r\n",
    "#================================================================================\r\n",
    "shellExe(\"sudo -S ifconfig eth0 > localip.txt\")\r\n",
    "file1 = open('localip.txt', 'r')\r\n",
    "Lines = file1.readlines()\r\n",
    "\r\n",
    "myIpv4=Lines[1].strip().split(' ')[1]\r\n",
    "myNetmask=Lines[1].strip().split(' ')[4]\r\n",
    "myIpv6=Lines[2].strip().split(' ')[1]\r\n",
    "myMac=Lines[3].strip().split(' ')[1]\r\n",
    "#================================================================================\r\n"
   ],
   "outputs": [
    {
     "output_type": "stream",
     "name": "stderr",
     "text": [
      "[sudo] password for shubham: "
     ]
    }
   ],
   "metadata": {}
  },
  {
   "cell_type": "code",
   "execution_count": null,
   "source": [
    "\r\n",
    "#arp_scan\r\n",
    "#================================================================================\r\n",
    "\r\n",
    "#ALL IP_CONNECTED MAC_CONNECTED EVER\r\n",
    "shellExe(\"sudo -S arp -a > arp.txt\")\r\n",
    "file1 = open('arp.txt', 'r')\r\n",
    "Lines = file1.readlines()\r\n",
    "ip_connected=[]\r\n",
    "mac_connected=[]\r\n",
    "mf_connected=[]\r\n",
    "# Strips the newline character\r\n",
    "for line in Lines:\r\n",
    "    ip_connected.append(line.strip().split(' ')[1][1:-1])\r\n",
    "    mac_connected.append(line.strip().split(' ')[3])\r\n",
    "    mf_connected.append(\"NULL\")\r\n",
    "\r\n",
    "#================================================================================\r\n"
   ],
   "outputs": [],
   "metadata": {}
  },
  {
   "cell_type": "code",
   "execution_count": null,
   "source": [
    "#arp-scan\r\n",
    "#================================================================================\r\n",
    "#ALL ACTIVE IP_CONNECTED MAC MF\r\n",
    "shellExe(\"sudo -S arp-scan -l > arp_scan.txt\")\r\n",
    "\r\n",
    "file1 = open('arp_scan1.txt', 'r')\r\n",
    "Lines = file1.readlines()\r\n",
    "ip=[]\r\n",
    "mac=[]\r\n",
    "mf=[]\r\n",
    "c=0\r\n",
    "for line in Lines:\r\n",
    "    c+=1\r\n",
    "    if(c>2 and c<len(Lines)-2):\r\n",
    "        print(line.strip())\r\n",
    "        ip.append(line.strip().replace(\"\\t\",\" \").split(' ')[0])\r\n",
    "        mac.append(line.strip().replace(\"\\t\",\" \").split(' ')[1])\r\n",
    "        mf.append(line.strip().replace(\"\\t\",\" \").split(' ')[2])\r\n",
    "\r\n",
    "#================================================================================\r\n"
   ],
   "outputs": [],
   "metadata": {}
  },
  {
   "cell_type": "code",
   "execution_count": null,
   "source": [
    "#nmap scan\r\n",
    "#================================================================================\r\n",
    "#IP, MAC, HOSTNAME, DOMAIN, OS , WORKGROUP, AD\r\n",
    "shellExe(\"sudo -S nmap -sT -sC -sV -O -Pn -sn -sU -sS --open \"+myIpv4+\" --script smb-enum-domains.nse > nmap.txt\")\r\n",
    "#================================================================================\r\n"
   ],
   "outputs": [],
   "metadata": {}
  },
  {
   "cell_type": "markdown",
   "source": [
    "# REMOTE NETWORK"
   ],
   "metadata": {}
  },
  {
   "cell_type": "code",
   "execution_count": null,
   "source": [
    "#MANUAL\r\n",
    "#AT REMOTE SERVER\r\n",
    "def sshTunnelSetupRunOnlyOnceRemoteServer():\r\n",
    "    shellExe(\"sudo -S tunctl -t tap0\")\r\n",
    "    shellExe(\"sudo -S ifconfig tap0 10.100.100.100 netmask 255.255.255.0\")\r\n",
    "    shellExe(\"sudo -S ethtool tap0\")\r\n",
    "\r\n",
    "#AT GROUND SYSTEM\r\n",
    "def sshTunnelSetupRunOnlyOnceLocalServer(remoteip):\r\n",
    "    shellExe(\"sudo -S tunctl -t tap0\")\r\n",
    "    shellExe(\"sudo -S ifconfig tap0 10.100.100.101 netmask 255.255.255.0\")\r\n",
    "    shellExe(\"sudo -S ssh -o Tunnel=ethernet -f -w any root@\"+remoteip+\" true\")\r\n",
    "    shellExe(\"sudo -S ethtool tap0\")\r\n",
    "\r\n",
    "def sshTunnelStart(remoteip):\r\n",
    "    shellExe(\"sudo -s ssh root@\"+remoteip+\"\")"
   ],
   "outputs": [],
   "metadata": {}
  },
  {
   "cell_type": "code",
   "execution_count": null,
   "source": [
    "#nmap scan\r\n",
    "#================================================================================\r\n",
    "serverip=\"172.17.11.1\"\r\n",
    "#IP, MAC, HOSTNAME, DOMAIN, OS , WORKGROUP, AD\r\n",
    "shellExe(\"sudo -S nmap -sT -sC -sV -O -Pn -sn -sU -sS --open \"+serverip+\" --script smb-enum-domains.nse > nmap.txt\")\r\n",
    "#================================================================================"
   ],
   "outputs": [],
   "metadata": {}
  }
 ],
 "metadata": {
  "kernelspec": {
   "display_name": "Python 3 (ipykernel)",
   "language": "python",
   "name": "python3"
  },
  "language_info": {
   "codemirror_mode": {
    "name": "ipython",
    "version": 3
   },
   "file_extension": ".py",
   "mimetype": "text/x-python",
   "name": "python",
   "nbconvert_exporter": "python",
   "pygments_lexer": "ipython3",
   "version": "3.9.2"
  }
 },
 "nbformat": 4,
 "nbformat_minor": 5
}