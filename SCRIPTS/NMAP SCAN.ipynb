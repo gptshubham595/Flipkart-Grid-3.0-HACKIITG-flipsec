{
 "cells": [
  {
   "cell_type": "code",
   "execution_count": 3,
   "id": "ffa65e3f",
   "metadata": {},
   "outputs": [
    {
     "name": "stderr",
     "output_type": "stream",
     "text": [
      "[sudo] password for shubham: \n",
      "WARNING: apt does not have a stable CLI interface. Use with caution in scripts.\n",
      "\n",
      "E: Unable to locate package arp\n",
      "[sudo] password for shubham: \n",
      "WARNING: apt does not have a stable CLI interface. Use with caution in scripts.\n",
      "\n",
      "[sudo] password for shubham: \n",
      "WARNING: apt does not have a stable CLI interface. Use with caution in scripts.\n",
      "\n",
      "[sudo] password for shubham: \n",
      "WARNING: apt does not have a stable CLI interface. Use with caution in scripts.\n",
      "\n"
     ]
    },
    {
     "data": {
      "text/plain": [
       "'Reading package lists...\\nBuilding dependency tree...\\nReading state information...\\nnet-tools is already the newest version (1.60+git20181103.0eebece-1).\\n0 upgraded, 0 newly installed, 0 to remove and 214 not upgraded.\\n'"
      ]
     },
     "execution_count": 3,
     "metadata": {},
     "output_type": "execute_result"
    }
   ],
   "source": [
    "import sys\n",
    "import subprocess\n",
    "from subprocess import Popen, PIPE, STDOUT\n",
    "\n",
    "def shellExe(command):\n",
    "    out=subprocess.Popen(command, shell=True, stdin=PIPE, stdout=subprocess.PIPE)\n",
    "    grep_stdout = out.communicate(input=b'PASSWORD\\n')[0]\n",
    "    return grep_stdout.decode()\n",
    "\n",
    "shellExe(\"sudo -S apt install  arp\")\n",
    "shellExe(\"sudo  -S apt install arp-scan\")\n",
    "shellExe(\"sudo -S apt install nmap\")\n",
    "shellExe(\"sudo -S  apt install net-tools\")\n"
   ]
  },
  {
   "cell_type": "code",
   "execution_count": 4,
   "id": "b8daa14b",
   "metadata": {},
   "outputs": [
    {
     "name": "stderr",
     "output_type": "stream",
     "text": [
      "[sudo] password for shubham: "
     ]
    }
   ],
   "source": [
    "#MY_OWN\n",
    "\n",
    "shellExe(\"sudo -S ifconfig eth0 > localip.txt\")\n",
    "file1 = open('localip.txt', 'r')\n",
    "Lines = file1.readlines()\n",
    "\n",
    "myIpv4=Lines[1].strip().split(' ')[1]\n",
    "myNetmask=Lines[1].strip().split(' ')[4]\n",
    "myIpv6=Lines[2].strip().split(' ')[1]\n",
    "myMac=Lines[3].strip().split(' ')[1]\n"
   ]
  },
  {
   "cell_type": "code",
   "execution_count": 11,
   "id": "c7ea0036",
   "metadata": {},
   "outputs": [
    {
     "data": {
      "text/plain": [
       "'255.255.255.0'"
      ]
     },
     "execution_count": 11,
     "metadata": {},
     "output_type": "execute_result"
    }
   ],
   "source": []
  },
  {
   "cell_type": "code",
   "execution_count": null,
   "id": "b827fdd2",
   "metadata": {},
   "outputs": [],
   "source": [
    "#ip\n",
    "#mac\n",
    "#hostname\n",
    "#domain\n",
    "#OS\n",
    "shellExe(\"sudo -S nmap -sn 117.194.221.35/24 > nmap_.txt\")\n"
   ]
  }
 ],
 "metadata": {
  "kernelspec": {
   "display_name": "Python 3 (ipykernel)",
   "language": "python",
   "name": "python3"
  },
  "language_info": {
   "codemirror_mode": {
    "name": "ipython",
    "version": 3
   },
   "file_extension": ".py",
   "mimetype": "text/x-python",
   "name": "python",
   "nbconvert_exporter": "python",
   "pygments_lexer": "ipython3",
   "version": "3.9.2"
  }
 },
 "nbformat": 4,
 "nbformat_minor": 5
}