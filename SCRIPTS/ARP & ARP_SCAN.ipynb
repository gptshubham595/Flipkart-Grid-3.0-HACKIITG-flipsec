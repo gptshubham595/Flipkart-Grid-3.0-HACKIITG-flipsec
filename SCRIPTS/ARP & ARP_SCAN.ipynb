{
 "cells": [
  {
   "cell_type": "code",
   "execution_count": 22,
   "source": [
    "# -*- coding: utf-8 -*-\r\n",
    "\"\"\"\r\n",
    "Created on Mon Jul 19 22:20:46 2021\r\n",
    "\r\n",
    "@author: SHUBHAM\r\n",
    "\"\"\"\r\n",
    "\r\n",
    "import sys\r\n",
    "import subprocess\r\n",
    "from subprocess import Popen, PIPE, STDOUT\r\n",
    "\r\n",
    "def shellExe(command):\r\n",
    "    out=subprocess.Popen(command, shell=True, stdin=PIPE, stdout=subprocess.PIPE)\r\n",
    "    grep_stdout = out.communicate(input=b'PASSWORD\\n')[0]\r\n",
    "    #out=grep_stdout.decode()\r\n",
    "    #print(out.stdout.read())\r\n",
    "    return grep_stdout.decode()\r\n",
    "\r\n",
    "\r\n",
    "\r\n",
    "shellExe(\"sudo -S apt install  arp\")\r\n",
    "shellExe(\"sudo  -S apt install arp-scan\")\r\n",
    "shellExe(\"sudo -S apt install nmap\")\r\n",
    "shellExe(\"sudo -S  apt install net-tools\")\r\n"
   ],
   "outputs": [
    {
     "output_type": "stream",
     "name": "stderr",
     "text": [
      "[sudo] password for shubham: \n",
      "WARNING: apt does not have a stable CLI interface. Use with caution in scripts.\n",
      "\n",
      "E: Unable to locate package arp\n",
      "[sudo] password for shubham: \n",
      "WARNING: apt does not have a stable CLI interface. Use with caution in scripts.\n",
      "\n",
      "[sudo] password for shubham: \n",
      "WARNING: apt does not have a stable CLI interface. Use with caution in scripts.\n",
      "\n",
      "[sudo] password for shubham: \n",
      "WARNING: apt does not have a stable CLI interface. Use with caution in scripts.\n",
      "\n"
     ]
    },
    {
     "output_type": "execute_result",
     "data": {
      "text/plain": [
       "'Reading package lists...\\nBuilding dependency tree...\\nReading state information...\\nnet-tools is already the newest version (1.60+git20181103.0eebece-1).\\nnet-tools set to manually installed.\\n0 upgraded, 0 newly installed, 0 to remove and 214 not upgraded.\\n'"
      ]
     },
     "metadata": {},
     "execution_count": 22
    }
   ],
   "metadata": {}
  },
  {
   "cell_type": "code",
   "execution_count": 1,
   "source": [
    "from whatsmyip.ip import get_ip\r\n",
    "from whatsmyip.providers import GoogleDnsProvider\r\n",
    "get_ip(GoogleDnsProvider)"
   ],
   "outputs": [
    {
     "output_type": "execute_result",
     "data": {
      "text/plain": [
       "'117.194.221.35'"
      ]
     },
     "metadata": {},
     "execution_count": 1
    }
   ],
   "metadata": {}
  },
  {
   "cell_type": "code",
   "execution_count": 28,
   "source": [
    "\r\n",
    "arp_res=shellExe(\"sudo -S arp -a > arp1.txt\")\r\n",
    "arp_scan_res=shellExe(\"sudo -S arp-scan -l > arp_scan1.txt\")\r\n"
   ],
   "outputs": [
    {
     "output_type": "stream",
     "name": "stderr",
     "text": [
      "[sudo] password for shubham: [sudo] password for shubham: "
     ]
    }
   ],
   "metadata": {}
  },
  {
   "cell_type": "code",
   "execution_count": 33,
   "source": [
    "file1 = open('arp1.txt', 'r')\r\n",
    "Lines = file1.readlines()\r\n",
    "ip_connected=[]\r\n",
    "mac_connected=[]\r\n",
    "# Strips the newline character\r\n",
    "for line in Lines:\r\n",
    "    ip_connected.append(line.strip().split(' ')[1][1:-1])\r\n",
    "    mac_connected.append(line.strip().split(' ')[3])\r\n",
    "    print( line.strip().split(' ')[1][1:-1])\r\n",
    "    print(line.strip().split(' ')[3])"
   ],
   "outputs": [
    {
     "output_type": "stream",
     "name": "stdout",
     "text": [
      "(192.168.11.2)\n",
      "00:50:56:f0:0e:dc\n",
      "(192.168.11.254)\n",
      "00:50:56:ea:37:10\n"
     ]
    }
   ],
   "metadata": {}
  },
  {
   "cell_type": "code",
   "execution_count": 56,
   "source": [
    "file1 = open('arp_scan1.txt', 'r')\r\n",
    "Lines = file1.readlines()\r\n",
    "ip=[]\r\n",
    "mac=[]\r\n",
    "mf=[]\r\n",
    "c=0\r\n",
    "for line in Lines:\r\n",
    "    c+=1\r\n",
    "    if(c>2 and c<len(Lines)-2):\r\n",
    "        print(line.strip())\r\n",
    "        ip.append(line.strip().replace(\"\\t\",\" \").split(' ')[0])\r\n",
    "        mac.append(line.strip().replace(\"\\t\",\" \").split(' ')[1])\r\n",
    "        mf.append(line.strip().replace(\"\\t\",\" \").split(' ')[2])\r\n",
    "    "
   ],
   "outputs": [
    {
     "output_type": "stream",
     "name": "stdout",
     "text": [
      "192.168.11.2\t00:50:56:f0:0e:dc\tVMware, Inc.\n",
      "192.168.11.254\t00:50:56:ea:37:10\tVMware, Inc.\n"
     ]
    }
   ],
   "metadata": {}
  },
  {
   "cell_type": "code",
   "execution_count": 51,
   "source": [
    "ip"
   ],
   "outputs": [
    {
     "output_type": "execute_result",
     "data": {
      "text/plain": [
       "['192.168.11.2', '192.168.11.254']"
      ]
     },
     "metadata": {},
     "execution_count": 51
    }
   ],
   "metadata": {}
  },
  {
   "cell_type": "code",
   "execution_count": 52,
   "source": [
    "mac"
   ],
   "outputs": [
    {
     "output_type": "execute_result",
     "data": {
      "text/plain": [
       "['00:50:56:f0:0e:dc', '00:50:56:ea:37:10']"
      ]
     },
     "metadata": {},
     "execution_count": 52
    }
   ],
   "metadata": {}
  },
  {
   "cell_type": "code",
   "execution_count": 57,
   "source": [
    "mf"
   ],
   "outputs": [
    {
     "output_type": "execute_result",
     "data": {
      "text/plain": [
       "['VMware', 'VMware']"
      ]
     },
     "metadata": {},
     "execution_count": 57
    }
   ],
   "metadata": {}
  },
  {
   "cell_type": "code",
   "execution_count": 58,
   "source": [
    "import pandas as pd\r\n",
    "df = pd.DataFrame()\r\n",
    "df.loc[:,'IP'] = pd.Series(ip)\r\n",
    "df.loc[:,'MAC'] = pd.Series(mac)\r\n",
    "df.loc[:,'M/F'] = pd.Series(mf)\r\n",
    "df.to_csv( 'ARP_SCAN.csv', index=False)"
   ],
   "outputs": [],
   "metadata": {}
  }
 ],
 "metadata": {
  "kernelspec": {
   "display_name": "Python 3 (ipykernel)",
   "language": "python",
   "name": "python3"
  },
  "language_info": {
   "codemirror_mode": {
    "name": "ipython",
    "version": 3
   },
   "file_extension": ".py",
   "mimetype": "text/x-python",
   "name": "python",
   "nbconvert_exporter": "python",
   "pygments_lexer": "ipython3",
   "version": "3.9.2"
  }
 },
 "nbformat": 4,
 "nbformat_minor": 5
}