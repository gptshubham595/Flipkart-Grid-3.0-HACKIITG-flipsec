{
 "cells": [
  {
   "cell_type": "code",
   "execution_count": 22,
   "id": "3deeb6e8",
   "metadata": {},
   "outputs": [
    {
     "name": "stderr",
     "output_type": "stream",
     "text": [
      "[sudo] password for shubham: \n",
      "WARNING: apt does not have a stable CLI interface. Use with caution in scripts.\n",
      "\n",
      "E: Unable to locate package arp\n",
      "[sudo] password for shubham: \n",
      "WARNING: apt does not have a stable CLI interface. Use with caution in scripts.\n",
      "\n",
      "[sudo] password for shubham: \n",
      "WARNING: apt does not have a stable CLI interface. Use with caution in scripts.\n",
      "\n",
      "[sudo] password for shubham: \n",
      "WARNING: apt does not have a stable CLI interface. Use with caution in scripts.\n",
      "\n"
     ]
    },
    {
     "data": {
      "text/plain": [
       "'Reading package lists...\\nBuilding dependency tree...\\nReading state information...\\nnet-tools is already the newest version (1.60+git20181103.0eebece-1).\\nnet-tools set to manually installed.\\n0 upgraded, 0 newly installed, 0 to remove and 214 not upgraded.\\n'"
      ]
     },
     "execution_count": 22,
     "metadata": {},
     "output_type": "execute_result"
    }
   ],
   "source": [
    "# -*- coding: utf-8 -*-\n",
    "\"\"\"\n",
    "Created on Mon Jul 19 22:20:46 2021\n",
    "\n",
    "@author: SHUBHAM\n",
    "\"\"\"\n",
    "\n",
    "import sys\n",
    "import subprocess\n",
    "from subprocess import Popen, PIPE, STDOUT\n",
    "\n",
    "def shellExe(command):\n",
    "    out=subprocess.Popen(command, shell=True, stdin=PIPE, stdout=subprocess.PIPE)\n",
    "    grep_stdout = out.communicate(input=b'PASSWORD\\n')[0]\n",
    "    #out=grep_stdout.decode()\n",
    "    #print(out.stdout.read())\n",
    "    return grep_stdout.decode()\n",
    "\n",
    "\n",
    "\n",
    "shellExe(\"sudo -S apt install  arp\")\n",
    "shellExe(\"sudo  -S apt install arp-scan\")\n",
    "shellExe(\"sudo -S apt install nmap\")\n",
    "shellExe(\"sudo -S  apt install net-tools\")\n"
   ]
  },
  {
   "cell_type": "code",
   "execution_count": 1,
   "id": "de06c626",
   "metadata": {},
   "outputs": [
    {
     "data": {
      "text/plain": [
       "'117.194.221.35'"
      ]
     },
     "execution_count": 1,
     "metadata": {},
     "output_type": "execute_result"
    }
   ],
   "source": [
    "from whatsmyip.ip import get_ip\n",
    "from whatsmyip.providers import GoogleDnsProvider\n",
    "get_ip(GoogleDnsProvider)"
   ]
  },
  {
   "cell_type": "code",
   "execution_count": 28,
   "id": "de8523bb",
   "metadata": {},
   "outputs": [
    {
     "name": "stderr",
     "output_type": "stream",
     "text": [
      "[sudo] password for shubham: [sudo] password for shubham: "
     ]
    }
   ],
   "source": [
    "\n",
    "arp_res=shellExe(\"sudo -S arp -a > arp1.txt\")\n",
    "arp_scan_res=shellExe(\"sudo -S arp-scan -l > arp_scan1.txt\")\n"
   ]
  },
  {
   "cell_type": "code",
   "execution_count": 33,
   "id": "4047f3ea",
   "metadata": {},
   "outputs": [
    {
     "name": "stdout",
     "output_type": "stream",
     "text": [
      "(192.168.11.2)\n",
      "00:50:56:f0:0e:dc\n",
      "(192.168.11.254)\n",
      "00:50:56:ea:37:10\n"
     ]
    }
   ],
   "source": [
    "file1 = open('arp1.txt', 'r')\n",
    "Lines = file1.readlines()\n",
    "ip_connected=[]\n",
    "mac_connected=[]\n",
    "# Strips the newline character\n",
    "for line in Lines:\n",
    "    ip_connected.append(line.strip().split(' ')[1])\n",
    "    mac_connected.append(line.strip().split(' ')[3])\n",
    "    print( line.strip().split(' ')[1])\n",
    "    print(line.strip().split(' ')[3])"
   ]
  },
  {
   "cell_type": "code",
   "execution_count": 56,
   "id": "1eb848dc",
   "metadata": {},
   "outputs": [
    {
     "name": "stdout",
     "output_type": "stream",
     "text": [
      "192.168.11.2\t00:50:56:f0:0e:dc\tVMware, Inc.\n",
      "192.168.11.254\t00:50:56:ea:37:10\tVMware, Inc.\n"
     ]
    }
   ],
   "source": [
    "file1 = open('arp_scan1.txt', 'r')\n",
    "Lines = file1.readlines()\n",
    "ip=[]\n",
    "mac=[]\n",
    "mf=[]\n",
    "c=0\n",
    "for line in Lines:\n",
    "    c+=1\n",
    "    if(c>2 and c<len(Lines)-2):\n",
    "        print(line.strip())\n",
    "        ip.append(line.strip().replace(\"\\t\",\" \").split(' ')[0])\n",
    "        mac.append(line.strip().replace(\"\\t\",\" \").split(' ')[1])\n",
    "        mf.append(line.strip().replace(\"\\t\",\" \").split(' ')[2].split(',')[0])\n",
    "    "
   ]
  },
  {
   "cell_type": "code",
   "execution_count": 51,
   "id": "ade538cc",
   "metadata": {},
   "outputs": [
    {
     "data": {
      "text/plain": [
       "['192.168.11.2', '192.168.11.254']"
      ]
     },
     "execution_count": 51,
     "metadata": {},
     "output_type": "execute_result"
    }
   ],
   "source": [
    "ip"
   ]
  },
  {
   "cell_type": "code",
   "execution_count": 52,
   "id": "cc8d8560",
   "metadata": {},
   "outputs": [
    {
     "data": {
      "text/plain": [
       "['00:50:56:f0:0e:dc', '00:50:56:ea:37:10']"
      ]
     },
     "execution_count": 52,
     "metadata": {},
     "output_type": "execute_result"
    }
   ],
   "source": [
    "mac"
   ]
  },
  {
   "cell_type": "code",
   "execution_count": 57,
   "id": "cb37bd26",
   "metadata": {},
   "outputs": [
    {
     "data": {
      "text/plain": [
       "['VMware', 'VMware']"
      ]
     },
     "execution_count": 57,
     "metadata": {},
     "output_type": "execute_result"
    }
   ],
   "source": [
    "mf"
   ]
  },
  {
   "cell_type": "code",
   "execution_count": 58,
   "id": "6a174f87",
   "metadata": {},
   "outputs": [],
   "source": [
    "import pandas as pd\n",
    "df = pd.DataFrame()\n",
    "df.loc[:,'IP'] = pd.Series(ip)\n",
    "df.loc[:,'MAC'] = pd.Series(mac)\n",
    "df.loc[:,'M/F'] = pd.Series(mf)\n",
    "df.to_csv( 'ARP_SCAN.csv', index=False)"
   ]
  }
 ],
 "metadata": {
  "kernelspec": {
   "display_name": "Python 3 (ipykernel)",
   "language": "python",
   "name": "python3"
  },
  "language_info": {
   "codemirror_mode": {
    "name": "ipython",
    "version": 3
   },
   "file_extension": ".py",
   "mimetype": "text/x-python",
   "name": "python",
   "nbconvert_exporter": "python",
   "pygments_lexer": "ipython3",
   "version": "3.9.2"
  }
 },
 "nbformat": 4,
 "nbformat_minor": 5
}